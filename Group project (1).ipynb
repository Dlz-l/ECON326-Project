{
 "cells": [
  {
   "cell_type": "code",
   "execution_count": 1,
   "id": "f146f2f6-d4e2-45b9-b141-85a0a4549caf",
   "metadata": {},
   "outputs": [
    {
     "name": "stderr",
     "output_type": "stream",
     "text": [
      "Updating HTML index of packages in '.Library'\n",
      "\n",
      "Making 'packages.html' ...\n",
      " done\n",
      "\n"
     ]
    }
   ],
   "source": [
    "install.packages(\"readxl\")\n",
    "library(readxl)\n",
    "data <- read_excel(\"R_CODE_data1.xlsx\")\n",
    "#head(data, 5)"
   ]
  },
  {
   "cell_type": "markdown",
   "id": "a5fa7e98-cdc9-4466-b578-3b9f8fea399c",
   "metadata": {},
   "source": [
    "### read me:\n",
    "1. Some data were cleaned due to incomplete or ambiguous entries.\n",
    "2. However, we still have 170 samples, which is more than the minimum requirement.\n",
    "3. We found that the units for screen time, study hours, and sleep were inconsistent. Therefore, we converted all of them to a standard unit of hours.\n",
    "4. social_media and screen_time are time spent on them for non-academic purpose in hours after converting  "
   ]
  },
  {
   "cell_type": "code",
   "execution_count": 25,
   "id": "1f362778-1595-46d0-8ef0-95a03db24687",
   "metadata": {},
   "outputs": [
    {
     "data": {
      "text/html": [
       "<style>\n",
       ".list-inline {list-style: none; margin:0; padding: 0}\n",
       ".list-inline>li {display: inline-block}\n",
       ".list-inline>li:not(:last-child)::after {content: \"\\00b7\"; padding: 0 .5ex}\n",
       "</style>\n",
       "<ol class=list-inline><li>'GPA'</li><li>'Study_regular'</li><li>'Study_exam'</li><li>'class_material'</li><li>'assignment'</li><li>'hour_sports'</li><li>'hour_social'</li><li>'hour_volunteer'</li><li>'friends'</li><li>'family'</li><li>'job'</li><li>'job_hour'</li><li>'sleep'</li><li>'social_media_m'</li><li>'social_media'</li><li>'screen_time_m'</li><li>'screen_time'</li><li>'commute_time_hour'</li><li>'commute_time'</li><li>'transportation'</li><li>'higher_education'</li></ol>\n"
      ],
      "text/latex": [
       "\\begin{enumerate*}\n",
       "\\item 'GPA'\n",
       "\\item 'Study\\_regular'\n",
       "\\item 'Study\\_exam'\n",
       "\\item 'class\\_material'\n",
       "\\item 'assignment'\n",
       "\\item 'hour\\_sports'\n",
       "\\item 'hour\\_social'\n",
       "\\item 'hour\\_volunteer'\n",
       "\\item 'friends'\n",
       "\\item 'family'\n",
       "\\item 'job'\n",
       "\\item 'job\\_hour'\n",
       "\\item 'sleep'\n",
       "\\item 'social\\_media\\_m'\n",
       "\\item 'social\\_media'\n",
       "\\item 'screen\\_time\\_m'\n",
       "\\item 'screen\\_time'\n",
       "\\item 'commute\\_time\\_hour'\n",
       "\\item 'commute\\_time'\n",
       "\\item 'transportation'\n",
       "\\item 'higher\\_education'\n",
       "\\end{enumerate*}\n"
      ],
      "text/markdown": [
       "1. 'GPA'\n",
       "2. 'Study_regular'\n",
       "3. 'Study_exam'\n",
       "4. 'class_material'\n",
       "5. 'assignment'\n",
       "6. 'hour_sports'\n",
       "7. 'hour_social'\n",
       "8. 'hour_volunteer'\n",
       "9. 'friends'\n",
       "10. 'family'\n",
       "11. 'job'\n",
       "12. 'job_hour'\n",
       "13. 'sleep'\n",
       "14. 'social_media_m'\n",
       "15. 'social_media'\n",
       "16. 'screen_time_m'\n",
       "17. 'screen_time'\n",
       "18. 'commute_time_hour'\n",
       "19. 'commute_time'\n",
       "20. 'transportation'\n",
       "21. 'higher_education'\n",
       "\n",
       "\n"
      ],
      "text/plain": [
       " [1] \"GPA\"               \"Study_regular\"     \"Study_exam\"       \n",
       " [4] \"class_material\"    \"assignment\"        \"hour_sports\"      \n",
       " [7] \"hour_social\"       \"hour_volunteer\"    \"friends\"          \n",
       "[10] \"family\"            \"job\"               \"job_hour\"         \n",
       "[13] \"sleep\"             \"social_media_m\"    \"social_media\"     \n",
       "[16] \"screen_time_m\"     \"screen_time\"       \"commute_time_hour\"\n",
       "[19] \"commute_time\"      \"transportation\"    \"higher_education\" "
      ]
     },
     "metadata": {},
     "output_type": "display_data"
    }
   ],
   "source": [
    "colnames(data) #The variables that are included"
   ]
  },
  {
   "cell_type": "code",
   "execution_count": 12,
   "id": "5dd0e6f3-f722-4e4f-afb7-687446178207",
   "metadata": {},
   "outputs": [
    {
     "data": {
      "text/html": [
       "'function'"
      ],
      "text/latex": [
       "'function'"
      ],
      "text/markdown": [
       "'function'"
      ],
      "text/plain": [
       "[1] \"function\""
      ]
     },
     "metadata": {},
     "output_type": "display_data"
    },
    {
     "name": "stdout",
     "output_type": "stream",
     "text": [
      "function (..., list = character(), package = NULL, lib.loc = NULL, verbose = getOption(\"verbose\"), \n",
      "    envir = .GlobalEnv, overwrite = TRUE)  \n"
     ]
    }
   ],
   "source": [
    "class(data)\n",
    "str(data)"
   ]
  },
  {
   "cell_type": "code",
   "execution_count": 14,
   "id": "9b1332b2-c0f0-4b75-b00a-8af14e386cf4",
   "metadata": {},
   "outputs": [],
   "source": [
    "library(readxl)\n",
    "df <- read_excel(\"R_CODE_data1.xlsx\")  # avoid rewrite in the function "
   ]
  },
  {
   "cell_type": "code",
   "execution_count": 18,
   "id": "5fb4d79a-813b-40ff-8cd7-9c3f0abfb16d",
   "metadata": {},
   "outputs": [
    {
     "name": "stdout",
     "output_type": "stream",
     "text": [
      " num [1:169] 6.5 7 6 7 7 7.5 9 8 8 7.5 ...\n"
     ]
    },
    {
     "data": {
      "text/plain": [
       "   Min. 1st Qu.  Median    Mean 3rd Qu.    Max. \n",
       "  1.000   6.500   7.000   7.089   8.000  10.000 "
      ]
     },
     "metadata": {},
     "output_type": "display_data"
    }
   ],
   "source": [
    "#clean the data in the sleep hours, make them all into numerical value\n",
    "df$sleep <- gsub(\",\", \".\", df$sleep)\n",
    "df$sleep <- as.numeric(df$sleep)\n",
    "str(df$sleep)\n",
    "summary(df$sleep)"
   ]
  },
  {
   "cell_type": "code",
   "execution_count": 21,
   "id": "b7b408e8-944a-44d0-b2f9-943266b11fd7",
   "metadata": {},
   "outputs": [
    {
     "name": "stdout",
     "output_type": "stream",
     "text": [
      " num [1:169] 30 5 21 12 30 20 25 20 35 35 ...\n"
     ]
    },
    {
     "data": {
      "text/plain": [
       "\n",
       "   1    2    4    5    6    8    9   10   11   12   13 13.5   14   15   16   17 \n",
       "   1    2    4    4    2    5    2   17    2    7    1    1    2   11    2    1 \n",
       "  18   19   20   21   22   23   24   25   26   27   28   30   32   35   36   37 \n",
       "   7    1   35    8    1    1    7    9    2    3    2   14    2    4    1    1 \n",
       "  40   42   48   60 \n",
       "   4    1    1    1 "
      ]
     },
     "metadata": {},
     "output_type": "display_data"
    }
   ],
   "source": [
    "#clean the data in the study hours, make them all into numerical value\n",
    "df$Study_regular <- as.numeric(df$Study_regular)\n",
    "str(df$Study_regular)\n",
    "table(df$Study_regular, useNA = \"ifany\")"
   ]
  },
  {
   "cell_type": "code",
   "execution_count": 27,
   "id": "cf84891b-cf7c-49c1-b74c-13f91ee348c3",
   "metadata": {},
   "outputs": [
    {
     "data": {
      "text/plain": [
       "\n",
       "Call:\n",
       "lm(formula = sleep ~ Study_regular, data = df)\n",
       "\n",
       "Residuals:\n",
       "    Min      1Q  Median      3Q     Max \n",
       "-6.0018 -0.5909 -0.0675  0.9091  2.9560 \n",
       "\n",
       "Coefficients:\n",
       "              Estimate Std. Error t value Pr(>|t|)    \n",
       "(Intercept)   6.997087   0.191349  36.567   <2e-16 ***\n",
       "Study_regular 0.004691   0.008800   0.533    0.595    \n",
       "---\n",
       "Signif. codes:  0 ‘***’ 0.001 ‘**’ 0.01 ‘*’ 0.05 ‘.’ 0.1 ‘ ’ 1\n",
       "\n",
       "Residual standard error: 1.091 on 167 degrees of freedom\n",
       "Multiple R-squared:  0.001699,\tAdjusted R-squared:  -0.004279 \n",
       "F-statistic: 0.2842 on 1 and 167 DF,  p-value: 0.5947\n"
      ]
     },
     "metadata": {},
     "output_type": "display_data"
    },
    {
     "name": "stdout",
     "output_type": "stream",
     "text": [
      " num [1:169] 6.5 7 6 7 7 7.5 9 8 8 7.5 ...\n"
     ]
    },
    {
     "data": {
      "text/plain": [
       "   Min. 1st Qu.  Median    Mean 3rd Qu.    Max. \n",
       "  1.000   6.500   7.000   7.089   8.000  10.000 "
      ]
     },
     "metadata": {},
     "output_type": "display_data"
    }
   ],
   "source": [
    "model1 <- lm(sleep ~ Study_regular, data = df)\n",
    "summary(model1)"
   ]
  },
  {
   "cell_type": "code",
   "execution_count": 28,
   "id": "334ba7f9-8f78-4753-88d5-0b2ea51cdc64",
   "metadata": {
    "scrolled": true
   },
   "outputs": [
    {
     "name": "stdout",
     "output_type": "stream",
     "text": [
      " num [1:169] 100 200 200 180 180 60 300 240 80 152 ...\n"
     ]
    },
    {
     "data": {
      "text/plain": [
       "   Min. 1st Qu.  Median    Mean 3rd Qu.    Max. \n",
       "    1.0   100.0   180.0   200.1   240.0  2520.0 "
      ]
     },
     "metadata": {},
     "output_type": "display_data"
    }
   ],
   "source": [
    "#Clean social_media sample data \n",
    "df$social_media <- as.numeric(df$social_media)\n",
    "str(df$social_media)\n",
    "summary(df$social_media)"
   ]
  },
  {
   "cell_type": "code",
   "execution_count": 29,
   "id": "700aee3f-922e-4aa2-a54f-cea0aaaf66a2",
   "metadata": {},
   "outputs": [
    {
     "data": {
      "text/plain": [
       "\n",
       "Call:\n",
       "lm(formula = sleep ~ Study_regular + social_media, data = df)\n",
       "\n",
       "Residuals:\n",
       "    Min      1Q  Median      3Q     Max \n",
       "-6.1042 -0.5697 -0.0910  0.8712  2.9046 \n",
       "\n",
       "Coefficients:\n",
       "                Estimate Std. Error t value Pr(>|t|)    \n",
       "(Intercept)    7.0998284  0.2041035  34.785   <2e-16 ***\n",
       "Study_regular  0.0048987  0.0087745   0.558    0.577    \n",
       "social_media  -0.0005338  0.0003769  -1.416    0.159    \n",
       "---\n",
       "Signif. codes:  0 ‘***’ 0.001 ‘**’ 0.01 ‘*’ 0.05 ‘.’ 0.1 ‘ ’ 1\n",
       "\n",
       "Residual standard error: 1.088 on 166 degrees of freedom\n",
       "Multiple R-squared:  0.01362,\tAdjusted R-squared:  0.001732 \n",
       "F-statistic: 1.146 on 2 and 166 DF,  p-value: 0.3205\n"
      ]
     },
     "metadata": {},
     "output_type": "display_data"
    }
   ],
   "source": [
    "model1 <- lm(sleep ~ Study_regular + social_media , data = df)\n",
    "summary(model1)"
   ]
  },
  {
   "cell_type": "code",
   "execution_count": null,
   "id": "15caae58-5f9a-4998-8e2d-4c306bd0d37c",
   "metadata": {},
   "outputs": [],
   "source": []
  }
 ],
 "metadata": {
  "kernelspec": {
   "display_name": "R",
   "language": "R",
   "name": "ir"
  },
  "language_info": {
   "codemirror_mode": "r",
   "file_extension": ".r",
   "mimetype": "text/x-r-source",
   "name": "R",
   "pygments_lexer": "r",
   "version": "4.3.3"
  }
 },
 "nbformat": 4,
 "nbformat_minor": 5
}

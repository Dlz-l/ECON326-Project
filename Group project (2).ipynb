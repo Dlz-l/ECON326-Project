{
 "cells": [
  {
   "cell_type": "markdown",
   "id": "a5fa7e98-cdc9-4466-b578-3b9f8fea399c",
   "metadata": {},
   "source": [
    "### read me: （for data cleaning)\n",
    "1. Some data were cleaned due to incomplete or ambiguous entries.\n",
    "2. However, we still have 170 samples, which is more than the minimum requirement.\n",
    "3. We found that the units for screen time, study hours, and sleep were inconsistent. Therefore, we converted all of them to a standard unit of hours.\n",
    "4. social_media and screen_time are time spent on them for non-academic purpose in hours after converting  "
   ]
  },
  {
   "cell_type": "markdown",
   "id": "7a74ffbc-a03f-4dd1-9cb0-7778b3a5ebce",
   "metadata": {},
   "source": [
    "### read me: \n",
    "1. The test is going to investigate how the study hours, screen time, and social hours affect stduents sleep hours.\n",
    "2. We need to control the demographical and socio-economic factors, to do this we worked through two way: \n",
    " set these variables as dummay variables into the regression model\n",
    "2.2 control these variables, and put them into the different groups and test the coefficient."
   ]
  },
  {
   "cell_type": "code",
   "execution_count": 1,
   "id": "f146f2f6-d4e2-45b9-b141-85a0a4549caf",
   "metadata": {},
   "outputs": [
    {
     "name": "stderr",
     "output_type": "stream",
     "text": [
      "Updating HTML index of packages in '.Library'\n",
      "\n",
      "Making 'packages.html' ...\n",
      " done\n",
      "\n"
     ]
    }
   ],
   "source": [
    "install.packages(\"readxl\")\n",
    "library(readxl)\n",
    "data <- read_excel(\"data2.xlsx\", sheet = \"Full-Scope\")"
   ]
  },
  {
   "cell_type": "code",
   "execution_count": 2,
   "id": "abdd496a-8a70-4235-bd38-63ef7f399e07",
   "metadata": {},
   "outputs": [
    {
     "name": "stderr",
     "output_type": "stream",
     "text": [
      "Warning message:\n",
      "“NAs introduced by coercion”\n"
     ]
    }
   ],
   "source": [
    "# Convert relevant variables to numeric\n",
    "data$sleep_hours <- as.numeric(data$sleep_hours)\n",
    "data$Hour_all_courses <- as.numeric(data$Hour_all_courses)\n",
    "data$minute_social_media <- as.numeric(data$minute_social_media)\n",
    "data$Hour_screen_nonacademic <- as.numeric(data$Hour_screen_nonacademic)\n",
    "data$IsDomestic <- as.numeric(data$IsDomestic)\n",
    "data$IsWorking <- as.numeric(data$IsWorking)"
   ]
  },
  {
   "cell_type": "code",
   "execution_count": 3,
   "id": "1f362778-1595-46d0-8ef0-95a03db24687",
   "metadata": {},
   "outputs": [
    {
     "data": {
      "text/html": [
       "<style>\n",
       ".list-inline {list-style: none; margin:0; padding: 0}\n",
       ".list-inline>li {display: inline-block}\n",
       ".list-inline>li:not(:last-child)::after {content: \"\\00b7\"; padding: 0 .5ex}\n",
       "</style>\n",
       "<ol class=list-inline><li>'GPA'</li><li>'Hour_Econ326'</li><li>'Hour_all_courses'</li><li>'Extra_hour_forexam'</li><li>'Coursetake/semester'</li><li>'7. Do you prefer courses that focus more on practical applications or theoretical concepts?'</li><li>'AL_tool_Hour'</li><li>'feel_of_AI_Tool'</li><li>'Hour_classmaterial'</li><li>'Hour_Assignment'</li><li>'hour_sports'</li><li>'hour_studentclub'</li><li>'hour_volunteer'</li><li>'hour_friends'</li><li>'hour_Socialize_family'</li><li>'student_type'</li><li>'IsDomestic'</li><li>'Tuition_percourse'</li><li>'Scholarship'</li><li>'percent_financial_aid'</li><li>'Work_or_not'</li><li>'IsWorking'</li><li>'work'</li><li>'Hour_work'</li><li>'feeling_financial_situation'</li><li>'sleep_hours'</li><li>'minute_social_media'</li><li>'hour_social_media'</li><li>'Minute_screen_nonacademic'</li><li>'Hour_screen_nonacademic'</li><li>'feeling_depress'</li><li>'Minute_Commute'</li><li>'Hour_commute'</li><li>'Transportantion_mode'</li><li>'30. Do you prefer taking online courses, in-person courses, or a hybrid of both?'</li><li>'feeling_future_employ'</li><li>'Future_education'</li><li>'confidentlevel_job'</li><li>'career_path'</li><li>'Faculty'</li><li>'ethnicity'</li><li>'37. Which year are you in at your undergraduate program at UBC?'</li></ol>\n"
      ],
      "text/latex": [
       "\\begin{enumerate*}\n",
       "\\item 'GPA'\n",
       "\\item 'Hour\\_Econ326'\n",
       "\\item 'Hour\\_all\\_courses'\n",
       "\\item 'Extra\\_hour\\_forexam'\n",
       "\\item 'Coursetake/semester'\n",
       "\\item '7. Do you prefer courses that focus more on practical applications or theoretical concepts?'\n",
       "\\item 'AL\\_tool\\_Hour'\n",
       "\\item 'feel\\_of\\_AI\\_Tool'\n",
       "\\item 'Hour\\_classmaterial'\n",
       "\\item 'Hour\\_Assignment'\n",
       "\\item 'hour\\_sports'\n",
       "\\item 'hour\\_studentclub'\n",
       "\\item 'hour\\_volunteer'\n",
       "\\item 'hour\\_friends'\n",
       "\\item 'hour\\_Socialize\\_family'\n",
       "\\item 'student\\_type'\n",
       "\\item 'IsDomestic'\n",
       "\\item 'Tuition\\_percourse'\n",
       "\\item 'Scholarship'\n",
       "\\item 'percent\\_financial\\_aid'\n",
       "\\item 'Work\\_or\\_not'\n",
       "\\item 'IsWorking'\n",
       "\\item 'work'\n",
       "\\item 'Hour\\_work'\n",
       "\\item 'feeling\\_financial\\_situation'\n",
       "\\item 'sleep\\_hours'\n",
       "\\item 'minute\\_social\\_media'\n",
       "\\item 'hour\\_social\\_media'\n",
       "\\item 'Minute\\_screen\\_nonacademic'\n",
       "\\item 'Hour\\_screen\\_nonacademic'\n",
       "\\item 'feeling\\_depress'\n",
       "\\item 'Minute\\_Commute'\n",
       "\\item 'Hour\\_commute'\n",
       "\\item 'Transportantion\\_mode'\n",
       "\\item '30. Do you prefer taking online courses, in-person courses, or a hybrid of both?'\n",
       "\\item 'feeling\\_future\\_employ'\n",
       "\\item 'Future\\_education'\n",
       "\\item 'confidentlevel\\_job'\n",
       "\\item 'career\\_path'\n",
       "\\item 'Faculty'\n",
       "\\item 'ethnicity'\n",
       "\\item '37. Which year are you in at your undergraduate program at UBC?'\n",
       "\\end{enumerate*}\n"
      ],
      "text/markdown": [
       "1. 'GPA'\n",
       "2. 'Hour_Econ326'\n",
       "3. 'Hour_all_courses'\n",
       "4. 'Extra_hour_forexam'\n",
       "5. 'Coursetake/semester'\n",
       "6. '7. Do you prefer courses that focus more on practical applications or theoretical concepts?'\n",
       "7. 'AL_tool_Hour'\n",
       "8. 'feel_of_AI_Tool'\n",
       "9. 'Hour_classmaterial'\n",
       "10. 'Hour_Assignment'\n",
       "11. 'hour_sports'\n",
       "12. 'hour_studentclub'\n",
       "13. 'hour_volunteer'\n",
       "14. 'hour_friends'\n",
       "15. 'hour_Socialize_family'\n",
       "16. 'student_type'\n",
       "17. 'IsDomestic'\n",
       "18. 'Tuition_percourse'\n",
       "19. 'Scholarship'\n",
       "20. 'percent_financial_aid'\n",
       "21. 'Work_or_not'\n",
       "22. 'IsWorking'\n",
       "23. 'work'\n",
       "24. 'Hour_work'\n",
       "25. 'feeling_financial_situation'\n",
       "26. 'sleep_hours'\n",
       "27. 'minute_social_media'\n",
       "28. 'hour_social_media'\n",
       "29. 'Minute_screen_nonacademic'\n",
       "30. 'Hour_screen_nonacademic'\n",
       "31. 'feeling_depress'\n",
       "32. 'Minute_Commute'\n",
       "33. 'Hour_commute'\n",
       "34. 'Transportantion_mode'\n",
       "35. '30. Do you prefer taking online courses, in-person courses, or a hybrid of both?'\n",
       "36. 'feeling_future_employ'\n",
       "37. 'Future_education'\n",
       "38. 'confidentlevel_job'\n",
       "39. 'career_path'\n",
       "40. 'Faculty'\n",
       "41. 'ethnicity'\n",
       "42. '37. Which year are you in at your undergraduate program at UBC?'\n",
       "\n",
       "\n"
      ],
      "text/plain": [
       " [1] \"GPA\"                                                                                        \n",
       " [2] \"Hour_Econ326\"                                                                               \n",
       " [3] \"Hour_all_courses\"                                                                           \n",
       " [4] \"Extra_hour_forexam\"                                                                         \n",
       " [5] \"Coursetake/semester\"                                                                        \n",
       " [6] \"7. Do you prefer courses that focus more on practical applications or theoretical concepts?\"\n",
       " [7] \"AL_tool_Hour\"                                                                               \n",
       " [8] \"feel_of_AI_Tool\"                                                                            \n",
       " [9] \"Hour_classmaterial\"                                                                         \n",
       "[10] \"Hour_Assignment\"                                                                            \n",
       "[11] \"hour_sports\"                                                                                \n",
       "[12] \"hour_studentclub\"                                                                           \n",
       "[13] \"hour_volunteer\"                                                                             \n",
       "[14] \"hour_friends\"                                                                               \n",
       "[15] \"hour_Socialize_family\"                                                                      \n",
       "[16] \"student_type\"                                                                               \n",
       "[17] \"IsDomestic\"                                                                                 \n",
       "[18] \"Tuition_percourse\"                                                                          \n",
       "[19] \"Scholarship\"                                                                                \n",
       "[20] \"percent_financial_aid\"                                                                      \n",
       "[21] \"Work_or_not\"                                                                                \n",
       "[22] \"IsWorking\"                                                                                  \n",
       "[23] \"work\"                                                                                       \n",
       "[24] \"Hour_work\"                                                                                  \n",
       "[25] \"feeling_financial_situation\"                                                                \n",
       "[26] \"sleep_hours\"                                                                                \n",
       "[27] \"minute_social_media\"                                                                        \n",
       "[28] \"hour_social_media\"                                                                          \n",
       "[29] \"Minute_screen_nonacademic\"                                                                  \n",
       "[30] \"Hour_screen_nonacademic\"                                                                    \n",
       "[31] \"feeling_depress\"                                                                            \n",
       "[32] \"Minute_Commute\"                                                                             \n",
       "[33] \"Hour_commute\"                                                                               \n",
       "[34] \"Transportantion_mode\"                                                                       \n",
       "[35] \"30. Do you prefer taking online courses, in-person courses, or a hybrid of both?\"           \n",
       "[36] \"feeling_future_employ\"                                                                      \n",
       "[37] \"Future_education\"                                                                           \n",
       "[38] \"confidentlevel_job\"                                                                         \n",
       "[39] \"career_path\"                                                                                \n",
       "[40] \"Faculty\"                                                                                    \n",
       "[41] \"ethnicity\"                                                                                  \n",
       "[42] \"37. Which year are you in at your undergraduate program at UBC?\"                            "
      ]
     },
     "metadata": {},
     "output_type": "display_data"
    }
   ],
   "source": [
    "colnames(data) #The variables that are included"
   ]
  },
  {
   "cell_type": "code",
   "execution_count": 4,
   "id": "5dd0e6f3-f722-4e4f-afb7-687446178207",
   "metadata": {},
   "outputs": [],
   "source": [
    "#class(data)\n",
    "#str(data)"
   ]
  },
  {
   "cell_type": "code",
   "execution_count": 6,
   "id": "cf84891b-cf7c-49c1-b74c-13f91ee348c3",
   "metadata": {},
   "outputs": [
    {
     "data": {
      "text/plain": [
       "\n",
       "Call:\n",
       "lm(formula = sleep_hours ~ Hour_all_courses * IsWorking + minute_social_media * \n",
       "    IsWorking + Hour_screen_nonacademic * IsWorking + IsDomestic, \n",
       "    data = data)\n",
       "\n",
       "Residuals:\n",
       "     Min       1Q   Median       3Q      Max \n",
       "-2.29693 -0.60413  0.04147  0.67699  2.57851 \n",
       "\n",
       "Coefficients:\n",
       "                                   Estimate Std. Error t value Pr(>|t|)  \n",
       "(Intercept)                        3.944491   2.629861   1.500   0.1415  \n",
       "Hour_all_courses                   0.021334   0.068745   0.310   0.7579  \n",
       "IsWorking                          4.564760   2.677419   1.705   0.0960 .\n",
       "minute_social_media                0.013426   0.007704   1.743   0.0890 .\n",
       "Hour_screen_nonacademic            0.098058   0.194122   0.505   0.6162  \n",
       "IsDomestic                        -0.044396   0.318176  -0.140   0.8897  \n",
       "Hour_all_courses:IsWorking        -0.028177   0.070872  -0.398   0.6931  \n",
       "IsWorking:minute_social_media     -0.018970   0.007847  -2.417   0.0203 *\n",
       "IsWorking:Hour_screen_nonacademic -0.191045   0.204390  -0.935   0.3555  \n",
       "---\n",
       "Signif. codes:  0 ‘***’ 0.001 ‘**’ 0.01 ‘*’ 0.05 ‘.’ 0.1 ‘ ’ 1\n",
       "\n",
       "Residual standard error: 1.051 on 40 degrees of freedom\n",
       "  (119 observations deleted due to missingness)\n",
       "Multiple R-squared:  0.3541,\tAdjusted R-squared:  0.2249 \n",
       "F-statistic: 2.741 on 8 and 40 DF,  p-value: 0.01643\n"
      ]
     },
     "metadata": {},
     "output_type": "display_data"
    }
   ],
   "source": [
    "# Run regression with interaction terms\n",
    "reg1 <- lm(sleep_hours ~ \n",
    "              Hour_all_courses * IsWorking + \n",
    "              minute_social_media * IsWorking + \n",
    "              Hour_screen_nonacademic * IsWorking + \n",
    "              IsDomestic,\n",
    "            data = data)\n",
    "summary(reg1)"
   ]
  },
  {
   "cell_type": "code",
   "execution_count": 7,
   "id": "90c26412-37f3-4a0e-bd84-19f173781c79",
   "metadata": {},
   "outputs": [
    {
     "data": {
      "text/plain": [
       "\n",
       "Call:\n",
       "lm(formula = sleep_hours ~ hour_social_media, data = data)\n",
       "\n",
       "Residuals:\n",
       "    Min      1Q  Median      3Q     Max \n",
       "-2.1978 -0.6008 -0.1368  0.8158  2.8022 \n",
       "\n",
       "Coefficients:\n",
       "                  Estimate Std. Error t value Pr(>|t|)    \n",
       "(Intercept)        7.26559    0.10280  70.678   <2e-16 ***\n",
       "hour_social_media -0.04067    0.02058  -1.977   0.0498 *  \n",
       "---\n",
       "Signif. codes:  0 ‘***’ 0.001 ‘**’ 0.01 ‘*’ 0.05 ‘.’ 0.1 ‘ ’ 1\n",
       "\n",
       "Residual standard error: 0.9837 on 164 degrees of freedom\n",
       "  (2 observations deleted due to missingness)\n",
       "Multiple R-squared:  0.02327,\tAdjusted R-squared:  0.01731 \n",
       "F-statistic: 3.907 on 1 and 164 DF,  p-value: 0.04975\n"
      ]
     },
     "metadata": {},
     "output_type": "display_data"
    }
   ],
   "source": [
    "# H₀: Increased time spent on social media (in hours) has no effect on hours slept.\n",
    "# H₁: Increased time spent on social media (in hours) has a significant effect on hours slept.\n",
    "\n",
    "data$hour_social_media <- as.numeric(data$hour_social_media)\n",
    "model_social <- lm(sleep_hours ~ hour_social_media, data = data)\n",
    "summary(model_social)\n"
   ]
  },
  {
   "cell_type": "code",
   "execution_count": 8,
   "id": "071aa2c8-4711-4eeb-92b3-294da4cf1aa3",
   "metadata": {},
   "outputs": [
    {
     "data": {
      "text/plain": [
       "\n",
       "Call:\n",
       "lm(formula = sleep_hours ~ hour_sports, data = data)\n",
       "\n",
       "Residuals:\n",
       "     Min       1Q   Median       3Q      Max \n",
       "-2.30312 -0.60955 -0.06115  0.86021  2.91465 \n",
       "\n",
       "Coefficients:\n",
       "            Estimate Std. Error t value Pr(>|t|)    \n",
       "(Intercept)  7.01276    0.12552  55.869   <2e-16 ***\n",
       "hour_sports  0.02420    0.02056   1.177    0.241    \n",
       "---\n",
       "Signif. codes:  0 ‘***’ 0.001 ‘**’ 0.01 ‘*’ 0.05 ‘.’ 0.1 ‘ ’ 1\n",
       "\n",
       "Residual standard error: 0.9911 on 164 degrees of freedom\n",
       "  (2 observations deleted due to missingness)\n",
       "Multiple R-squared:  0.008379,\tAdjusted R-squared:  0.002332 \n",
       "F-statistic: 1.386 on 1 and 164 DF,  p-value: 0.2408\n"
      ]
     },
     "metadata": {},
     "output_type": "display_data"
    }
   ],
   "source": [
    "# H₀: Increased exercise hours have no effect on hours slept.\n",
    "# H₁: Increased exercise hours have a significant effect on hours slept.\n",
    "\n",
    "data$hour_sports <- as.numeric(data$hour_sports)\n",
    "model_exercise <- lm(sleep_hours ~ hour_sports, data = data)\n",
    "summary(model_exercise)"
   ]
  },
  {
   "cell_type": "code",
   "execution_count": 9,
   "id": "a521ea81-bcff-4a41-b1aa-cf47e9b11f82",
   "metadata": {},
   "outputs": [
    {
     "name": "stderr",
     "output_type": "stream",
     "text": [
      "Warning message:\n",
      "“NAs introduced by coercion”\n"
     ]
    },
    {
     "data": {
      "text/plain": [
       "\n",
       "Call:\n",
       "lm(formula = sleep_hours ~ social_hours, data = data)\n",
       "\n",
       "Residuals:\n",
       "    Min      1Q  Median      3Q     Max \n",
       "-2.2357 -0.6729 -0.1101  0.8145  2.8020 \n",
       "\n",
       "Coefficients:\n",
       "              Estimate Std. Error t value Pr(>|t|)    \n",
       "(Intercept)   7.298411   0.150077  48.631   <2e-16 ***\n",
       "social_hours -0.012551   0.009604  -1.307    0.193    \n",
       "---\n",
       "Signif. codes:  0 ‘***’ 0.001 ‘**’ 0.01 ‘*’ 0.05 ‘.’ 0.1 ‘ ’ 1\n",
       "\n",
       "Residual standard error: 0.9931 on 163 degrees of freedom\n",
       "  (3 observations deleted due to missingness)\n",
       "Multiple R-squared:  0.01037,\tAdjusted R-squared:  0.004299 \n",
       "F-statistic: 1.708 on 1 and 163 DF,  p-value: 0.1931\n"
      ]
     },
     "metadata": {},
     "output_type": "display_data"
    }
   ],
   "source": [
    "# H₀: Increased hours spent socializing have no effect on hours slept.\n",
    "# H₁: Increased hours spent socializing have a significant effect on hours slept.\n",
    "\n",
    "data$hour_friends <- as.numeric(data$hour_friends)\n",
    "data$hour_family <- as.numeric(data$hour_Socialize_family)\n",
    "data$social_hours <- data$hour_friends + data$hour_family\n",
    "\n",
    "model_socialize <- lm(sleep_hours ~ social_hours, data = data)\n",
    "summary(model_socialize)\n"
   ]
  },
  {
   "cell_type": "code",
   "execution_count": 10,
   "id": "22ffec75-d8a6-4d9a-81f4-df359fdfc0bd",
   "metadata": {},
   "outputs": [
    {
     "data": {
      "text/plain": [
       "\n",
       "Call:\n",
       "lm(formula = sleep_hours ~ Hour_all_courses, data = data)\n",
       "\n",
       "Residuals:\n",
       "    Min      1Q  Median      3Q     Max \n",
       "-2.1628 -0.6290 -0.1154  0.8541  2.8372 \n",
       "\n",
       "Coefficients:\n",
       "                  Estimate Std. Error t value Pr(>|t|)    \n",
       "(Intercept)       7.196627   0.178822  40.245   <2e-16 ***\n",
       "Hour_all_courses -0.003384   0.008133  -0.416    0.678    \n",
       "---\n",
       "Signif. codes:  0 ‘***’ 0.001 ‘**’ 0.01 ‘*’ 0.05 ‘.’ 0.1 ‘ ’ 1\n",
       "\n",
       "Residual standard error: 0.9948 on 164 degrees of freedom\n",
       "  (2 observations deleted due to missingness)\n",
       "Multiple R-squared:  0.001054,\tAdjusted R-squared:  -0.005037 \n",
       "F-statistic: 0.1731 on 1 and 164 DF,  p-value: 0.6779\n"
      ]
     },
     "metadata": {},
     "output_type": "display_data"
    }
   ],
   "source": [
    "# H₀: Increased study hours have no effect on hours slept.\n",
    "# H₁: Increased study hours have a significant effect on hours slept.\n",
    "\n",
    "data$Hour_all_courses <- as.numeric(data$Hour_all_courses)\n",
    "model_study <- lm(sleep_hours ~ Hour_all_courses, data = data)\n",
    "summary(model_study)\n"
   ]
  },
  {
   "cell_type": "markdown",
   "id": "dd0000f2-6599-47cb-a129-01719fafb934",
   "metadata": {},
   "source": [
    "Now we are going to test Does being an international student relate to screen or social media time?"
   ]
  },
  {
   "cell_type": "code",
   "execution_count": 11,
   "id": "7cdc7b16-6c14-4cd9-9e94-6b19d8482e61",
   "metadata": {},
   "outputs": [
    {
     "data": {
      "text/plain": [
       "\n",
       "Call:\n",
       "lm(formula = hour_social_media ~ IsDomestic, data = data)\n",
       "\n",
       "Residuals:\n",
       "   Min     1Q Median     3Q    Max \n",
       "-3.476 -1.537 -0.518  0.738 38.482 \n",
       "\n",
       "Coefficients:\n",
       "            Estimate Std. Error t value Pr(>|t|)    \n",
       "(Intercept)   3.2617     0.3583   9.103 2.68e-16 ***\n",
       "IsDomestic    0.2562     0.5996   0.427     0.67    \n",
       "---\n",
       "Signif. codes:  0 ‘***’ 0.001 ‘**’ 0.01 ‘*’ 0.05 ‘.’ 0.1 ‘ ’ 1\n",
       "\n",
       "Residual standard error: 3.724 on 166 degrees of freedom\n",
       "Multiple R-squared:  0.001099,\tAdjusted R-squared:  -0.004919 \n",
       "F-statistic: 0.1826 on 1 and 166 DF,  p-value: 0.6697\n"
      ]
     },
     "metadata": {},
     "output_type": "display_data"
    },
    {
     "data": {
      "text/plain": [
       "\n",
       "Call:\n",
       "lm(formula = Hour_screen_nonacademic ~ IsDomestic, data = data)\n",
       "\n",
       "Residuals:\n",
       "   Min     1Q Median     3Q    Max \n",
       "-4.205 -1.870 -0.870  1.130 37.795 \n",
       "\n",
       "Coefficients:\n",
       "            Estimate Std. Error t value Pr(>|t|)    \n",
       "(Intercept)   3.8702     0.3825  10.119   <2e-16 ***\n",
       "IsDomestic    0.3345     0.6400   0.523    0.602    \n",
       "---\n",
       "Signif. codes:  0 ‘***’ 0.001 ‘**’ 0.01 ‘*’ 0.05 ‘.’ 0.1 ‘ ’ 1\n",
       "\n",
       "Residual standard error: 3.975 on 166 degrees of freedom\n",
       "Multiple R-squared:  0.001643,\tAdjusted R-squared:  -0.004371 \n",
       "F-statistic: 0.2732 on 1 and 166 DF,  p-value: 0.6019\n"
      ]
     },
     "metadata": {},
     "output_type": "display_data"
    }
   ],
   "source": [
    "# H₀: Being an international student has no effect on social media time (in hours).\n",
    "# H₁: Being an international student significantly affects social media time.\n",
    "\n",
    "model_domestic_social <- lm(hour_social_media ~ IsDomestic, data = data)\n",
    "summary(model_domestic_social)\n",
    "\n",
    "# H₀: Being an international student has no effect on screen time (nonacademic, in hours).\n",
    "# H₁: Being an international student significantly affects screen time.\n",
    "\n",
    "model_domestic_screen <- lm(Hour_screen_nonacademic ~ IsDomestic, data = data)\n",
    "summary(model_domestic_screen)\n"
   ]
  },
  {
   "cell_type": "markdown",
   "id": "12e273d3-fbde-4340-aee2-1ded675669d3",
   "metadata": {},
   "source": [
    "Economics-Socio factor control:  Interaction effects with working status"
   ]
  },
  {
   "cell_type": "markdown",
   "id": "6afb3f31-9010-433d-9a57-68c5ba954616",
   "metadata": {},
   "source": [
    " Interaction effects with working status"
   ]
  },
  {
   "cell_type": "code",
   "execution_count": null,
   "id": "96323cc4-fc95-4be8-af01-06361fa1659e",
   "metadata": {},
   "outputs": [],
   "source": [
    "# H₀: The effect of exercise on sleep hours is the same whether or not a student works.\n",
    "# H₁: The relationship between exercise and sleep differs based on working status.\n",
    "\n",
    "model_work_exercise <- lm(sleep_hours ~ hour_sports * IsWorking, data = data)\n",
    "summary(model_work_exercise)"
   ]
  },
  {
   "cell_type": "markdown",
   "id": "2e8e11e6-e4cb-4983-9e3e-e8f7e05724ba",
   "metadata": {},
   "source": [
    "Work * Social Media"
   ]
  },
  {
   "cell_type": "code",
   "execution_count": 12,
   "id": "73b742a6-6d24-4cae-959d-943b16d7dd86",
   "metadata": {},
   "outputs": [
    {
     "data": {
      "text/plain": [
       "\n",
       "Call:\n",
       "lm(formula = sleep_hours ~ hour_social_media * IsWorking, data = data)\n",
       "\n",
       "Residuals:\n",
       "    Min      1Q  Median      3Q     Max \n",
       "-2.4137 -0.7202  0.1885  0.5584  2.4537 \n",
       "\n",
       "Coefficients:\n",
       "                            Estimate Std. Error t value Pr(>|t|)    \n",
       "(Intercept)                   5.1373     1.2205   4.209 0.000121 ***\n",
       "hour_social_media             0.6609     0.3683   1.795 0.079447 .  \n",
       "IsWorking                     3.0721     1.2591   2.440 0.018694 *  \n",
       "hour_social_media:IsWorking  -1.0587     0.3808  -2.780 0.007906 ** \n",
       "---\n",
       "Signif. codes:  0 ‘***’ 0.001 ‘**’ 0.01 ‘*’ 0.05 ‘.’ 0.1 ‘ ’ 1\n",
       "\n",
       "Residual standard error: 1.025 on 45 degrees of freedom\n",
       "  (119 observations deleted due to missingness)\n",
       "Multiple R-squared:  0.3088,\tAdjusted R-squared:  0.2627 \n",
       "F-statistic:   6.7 on 3 and 45 DF,  p-value: 0.000779\n"
      ]
     },
     "metadata": {},
     "output_type": "display_data"
    }
   ],
   "source": [
    "# H₀: The effect of social media use on sleep is the same regardless of working status.\n",
    "# H₁: The relationship between social media use and sleep differs for working students.\n",
    "\n",
    "model_work_social <- lm(sleep_hours ~ hour_social_media * IsWorking, data = data)\n",
    "summary(model_work_social)\n"
   ]
  },
  {
   "cell_type": "markdown",
   "id": "941a757c-3864-43d4-b5bd-e01efb482ffc",
   "metadata": {},
   "source": [
    "Work * Socialization"
   ]
  },
  {
   "cell_type": "code",
   "execution_count": 13,
   "id": "a52c6eaa-f86c-4fe6-b657-f03eafceb0a5",
   "metadata": {},
   "outputs": [
    {
     "data": {
      "text/plain": [
       "\n",
       "Call:\n",
       "lm(formula = sleep_hours ~ social_hours * IsWorking, data = data)\n",
       "\n",
       "Residuals:\n",
       "    Min      1Q  Median      3Q     Max \n",
       "-2.3666 -0.5234 -0.1062  0.8194  2.6706 \n",
       "\n",
       "Coefficients:\n",
       "                       Estimate Std. Error t value Pr(>|t|)    \n",
       "(Intercept)             6.45489    0.89240   7.233  4.6e-09 ***\n",
       "social_hours            0.05343    0.05451   0.980    0.332    \n",
       "IsWorking               1.17204    0.94679   1.238    0.222    \n",
       "social_hours:IsWorking -0.09062    0.05773  -1.570    0.123    \n",
       "---\n",
       "Signif. codes:  0 ‘***’ 0.001 ‘**’ 0.01 ‘*’ 0.05 ‘.’ 0.1 ‘ ’ 1\n",
       "\n",
       "Residual standard error: 1.172 on 45 degrees of freedom\n",
       "  (119 observations deleted due to missingness)\n",
       "Multiple R-squared:  0.09691,\tAdjusted R-squared:  0.0367 \n",
       "F-statistic:  1.61 on 3 and 45 DF,  p-value: 0.2004\n"
      ]
     },
     "metadata": {},
     "output_type": "display_data"
    }
   ],
   "source": [
    "# H₀: The effect of socialization on sleep is the same whether or not the student works.\n",
    "# H₁: The relationship between socialization and sleep is affected by working status.\n",
    "\n",
    "model_work_socialize <- lm(sleep_hours ~ social_hours * IsWorking, data = data)\n",
    "summary(model_work_socialize)\n"
   ]
  },
  {
   "cell_type": "code",
   "execution_count": null,
   "id": "663f77c7-72e8-4607-9362-74fe6f2d904f",
   "metadata": {},
   "outputs": [],
   "source": []
  }
 ],
 "metadata": {
  "kernelspec": {
   "display_name": "R",
   "language": "R",
   "name": "ir"
  },
  "language_info": {
   "codemirror_mode": "r",
   "file_extension": ".r",
   "mimetype": "text/x-r-source",
   "name": "R",
   "pygments_lexer": "r",
   "version": "4.3.3"
  }
 },
 "nbformat": 4,
 "nbformat_minor": 5
}
